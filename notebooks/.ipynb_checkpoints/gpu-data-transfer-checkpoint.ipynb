{
 "cells": [
  {
   "cell_type": "code",
   "execution_count": 40,
   "metadata": {},
   "outputs": [],
   "source": [
    "%matplotlib inline\n",
    "\n",
    "import matplotlib\n",
    "import numpy as np\n",
    "import pandas as pd\n",
    "import matplotlib.pyplot as plt\n",
    "from plot.plotting_utilities import *\n",
    "import os\n",
    "import sys\n",
    "plt.rcParams['ps.useafm'] = True\n",
    "plt.rcParams['pdf.use14corefonts'] = True\n",
    "plt.rcParams['text.usetex'] = True  # Let TeX do the typsetting\n",
    "plt.rcParams['text.latex.preamble'] = r'\\usepackage{sansmath}'\n",
    "plt.rcParams['font.family'] = 'DejaVu Sans Mono'"
   ]
  },
  {
   "cell_type": "code",
   "execution_count": 41,
   "metadata": {},
   "outputs": [],
   "source": [
    "this_directory = os.getcwd() + \"/\"\n",
    "this_filename = 'gpu-data-transfer'\n",
    "project_dir = this_directory + '../'"
   ]
  },
  {
   "cell_type": "code",
   "execution_count": 42,
   "metadata": {},
   "outputs": [],
   "source": [
    "# Inputs\n",
    "config = {\n",
    "    'res_dir': project_dir + 'results/final-v2/',\n",
    "    'cases': ['lhc', 'sps', 'ps'],\n",
    "    'outdir': project_dir + 'results/final-v2/plots/',\n",
    "}"
   ]
  },
  {
   "cell_type": "code",
   "execution_count": 79,
   "metadata": {},
   "outputs": [],
   "source": [
    "plot_dir = {}"
   ]
  },
  {
   "cell_type": "code",
   "execution_count": 94,
   "metadata": {},
   "outputs": [],
   "source": [
    "for case in config['cases']:\n",
    "    file = f'{config[\"res_dir\"]}/{case}/approx0-strong-scaling-gpu-1pn/avg-report.csv'\n",
    "    data = np.genfromtxt(file, delimiter='\\t', dtype=str)\n",
    "    header, data = list(data[0]), data[1:]\n",
    "\n",
    "    df = pd.DataFrame(data=data, columns=header)\n",
    "    df = df.loc[df['function']=='serial:conversion']\n",
    "    df = df.drop([\"s\", \"t\", \"red\", \"mtw\", 'seed', 'mpi', 'lb', 'tp', 'artdel', 'std(%)'], axis=1)\n",
    "\n",
    "\n",
    "    x = df['N'].values.astype(float)\n",
    "    y = df['total_time(sec)'].values.astype(float)\n",
    "#     y = df['global_percentage'].values.astype(float)\n",
    "    plot_dir[case] = {\n",
    "        'x': x,\n",
    "        'y': y\n",
    "    }"
   ]
  },
  {
   "cell_type": "code",
   "execution_count": 95,
   "metadata": {},
   "outputs": [
    {
     "data": {
      "text/plain": [
       "{'lhc': {'x': array([ 1.,  2.,  4.,  8., 16.]),\n",
       "  'y': array([10.58, 10.83, 10.79, 10.74, 10.7 ])},\n",
       " 'sps': {'x': array([ 1.,  2.,  4.,  8., 16.]),\n",
       "  'y': array([19.05, 19.96, 19.56, 19.54, 19.51])},\n",
       " 'ps': {'x': array([ 1.,  2.,  4.,  8., 16.]),\n",
       "  'y': array([1.56, 1.61, 1.62, 1.64, 1.63])}}"
      ]
     },
     "execution_count": 95,
     "metadata": {},
     "output_type": "execute_result"
    }
   ],
   "source": [
    "plot_dir"
   ]
  },
  {
   "cell_type": "code",
   "execution_count": 96,
   "metadata": {},
   "outputs": [
    {
     "name": "stdout",
     "output_type": "stream",
     "text": [
      "PDFCROP 1.38, 2012/11/02 - Copyright (c) 2002-2012 by Heiko Oberdiek.\n",
      "==> 1 page written on `/home/kiliakis/git/BLonD-1/notebooks/../results/final-v2/plots//gpu-data-transfer.pdf'.\n"
     ]
    },
    {
     "data": {
      "image/png": "[encoded data removed]",
      "text/plain": [
       "<Figure size 360x129.6 with 3 Axes>"
      ]
     },
     "metadata": {
      "needs_background": "light"
     },
     "output_type": "display_data"
    }
   ],
   "source": [
    "fig, ax_arr = plt.subplots(nrows=1, ncols=len(config['cases']), figsize=(5,1.8),\n",
    "                          sharex=True, sharey=True)\n",
    "\n",
    "\n",
    "for col, case in enumerate(config['cases']):\n",
    "    ax = ax_arr[col]\n",
    "    plt.sca(ax)\n",
    "    x = plot_dir[case]['x']\n",
    "    y = plot_dir[case]['y']\n",
    "    xpos = np.arange(len(x))\n",
    "    plt.bar(xpos, y, edgecolor='black', width=0.8, color='tab:grey')\n",
    "    plt.grid(True, which='major', alpha=0.5)\n",
    "    plt.grid(False, which='major', axis='x')\n",
    "    plt.gca().set_axisbelow(True)\n",
    "    if col == 0:\n",
    "        plt.ylabel('Runtime (\\%)')\n",
    "    if col == 1:\n",
    "        plt.xlabel('Nodes (x1 GPUs)')\n",
    "    plt.xticks(xpos, x.astype(int))\n",
    "    plt.title(r'\\bfseries ' + '{}'.format(case.upper()), fontsize=10, fontweight='bold', y=0.83)\n",
    "    ax.tick_params(pad=2, top=0, bottom=1, left=1,\n",
    "                     direction='out', length=3, width=1)\n",
    "    plt.tight_layout()\n",
    "plt.subplots_adjust(wspace=0.07, hspace=0.1, top=1)\n",
    "\n",
    "outfiles = [f'{config[\"outdir\"]}/{this_filename}.pdf', f'{config[\"outdir\"]}/{this_filename}.png']\n",
    "for outfile in outfiles:\n",
    "    save_and_crop(fig, outfile,dpi=600, bbox_inches='tight')\n",
    "\n",
    "# nbins = 100\n",
    "# count, x = np.histogram(s, nbins, density=True)\n",
    "# # print(bins)\n",
    "# y = 1/(sigma * np.sqrt(2 * np.pi)) * np.exp(-(x - mu)**2 / (2 * sigma**2))\n",
    "# plt.plot(x, y, linewidth=2, color='tab:blue')\n",
    "# plt.plot(x[nbins//2 - 11:nbins//2+11], y[nbins//2 - 11:nbins//2+11], linewidth=2, color='tab:red')\n",
    "# ax.fill_between(x[nbins//2 - 11:nbins//2+11], 0, y[nbins//2 - 11:nbins//2+11], alpha=0.2, facecolor='tab:red')\n",
    "# plt.ylim(0)\n",
    "# plt.xticks([])\n",
    "# plt.yticks([])\n",
    "# plt.xlabel('Bins', fontsize=11)\n",
    "# plt.ylabel('Bin Count', fontsize=11)\n",
    "# plt.annotate(r'\\bfseries In Shared Mem', xy=(x[nbins//2+6], y[nbins//2+6]),\n",
    "#             xycoords='data', xytext=(0.15, 3.7),\n",
    "#             arrowprops={'facecolor':'tab:red', 'shrink':0.05},\n",
    "#             color='tab:red', fontsize=11)\n",
    "# plt.annotate(r'\\bfseries In Global Mem', xy=(x[nbins//2-20], y[nbins//2-20]),\n",
    "#             xycoords='data', xytext=(-0.4, 2.5),\n",
    "#             arrowprops={'facecolor':'tab:blue', 'shrink':0.05},\n",
    "#             color='tab:blue',fontsize=11,\n",
    "#             ha='left')\n",
    "# plt.annotate(r'\\bfseries In Global Mem', xy=(x[nbins//2+18], y[nbins//2+18]),\n",
    "#             xycoords='data', xytext=(0.4, 2.5),\n",
    "#             arrowprops={'facecolor':'tab:blue', 'shrink':0.05},\n",
    "#             color='tab:blue', ha='right', fontsize=11)\n",
    "# plt.annotate(r'\\bfseries Hot Bins', xy=(0, 2.5),\n",
    "#             xycoords='data', ha='center', va='center',\n",
    "#             color='black', fontsize=11)\n",
    "# plt.tight_layout()\n"
   ]
  },
  {
   "cell_type": "code",
   "execution_count": 89,
   "metadata": {},
   "outputs": [
    {
     "data": {
      "text/html": [
       "<div>\n",
       "<style scoped>\n",
       "    .dataframe tbody tr th:only-of-type {\n",
       "        vertical-align: middle;\n",
       "    }\n",
       "\n",
       "    .dataframe tbody tr th {\n",
       "        vertical-align: top;\n",
       "    }\n",
       "\n",
       "    .dataframe thead th {\n",
       "        text-align: right;\n",
       "    }\n",
       "</style>\n",
       "<table border=\"1\" class=\"dataframe\">\n",
       "  <thead>\n",
       "    <tr style=\"text-align: right;\">\n",
       "      <th></th>\n",
       "      <th>ppb</th>\n",
       "      <th>b</th>\n",
       "      <th>n</th>\n",
       "      <th>N</th>\n",
       "      <th>omp</th>\n",
       "      <th>approx</th>\n",
       "      <th>prec</th>\n",
       "      <th>gpu</th>\n",
       "      <th>function</th>\n",
       "      <th>total_time(sec)</th>\n",
       "      <th>time_per_call(ms)</th>\n",
       "      <th>calls</th>\n",
       "      <th>global_percentage</th>\n",
       "    </tr>\n",
       "  </thead>\n",
       "  <tbody>\n",
       "    <tr>\n",
       "      <th>8</th>\n",
       "      <td>16000000</td>\n",
       "      <td>21</td>\n",
       "      <td>1</td>\n",
       "      <td>1</td>\n",
       "      <td>20</td>\n",
       "      <td>0</td>\n",
       "      <td>double</td>\n",
       "      <td>1</td>\n",
       "      <td>serial:conversion</td>\n",
       "      <td>1.56</td>\n",
       "      <td>0.08</td>\n",
       "      <td>20000.0</td>\n",
       "      <td>0.11</td>\n",
       "    </tr>\n",
       "    <tr>\n",
       "      <th>22</th>\n",
       "      <td>16000000</td>\n",
       "      <td>21</td>\n",
       "      <td>2</td>\n",
       "      <td>2</td>\n",
       "      <td>20</td>\n",
       "      <td>0</td>\n",
       "      <td>double</td>\n",
       "      <td>1</td>\n",
       "      <td>serial:conversion</td>\n",
       "      <td>1.61</td>\n",
       "      <td>0.08</td>\n",
       "      <td>20000.0</td>\n",
       "      <td>0.21</td>\n",
       "    </tr>\n",
       "    <tr>\n",
       "      <th>36</th>\n",
       "      <td>16000000</td>\n",
       "      <td>21</td>\n",
       "      <td>4</td>\n",
       "      <td>4</td>\n",
       "      <td>20</td>\n",
       "      <td>0</td>\n",
       "      <td>double</td>\n",
       "      <td>1</td>\n",
       "      <td>serial:conversion</td>\n",
       "      <td>1.62</td>\n",
       "      <td>0.08</td>\n",
       "      <td>20000.0</td>\n",
       "      <td>0.39</td>\n",
       "    </tr>\n",
       "    <tr>\n",
       "      <th>50</th>\n",
       "      <td>16000000</td>\n",
       "      <td>21</td>\n",
       "      <td>8</td>\n",
       "      <td>8</td>\n",
       "      <td>20</td>\n",
       "      <td>0</td>\n",
       "      <td>double</td>\n",
       "      <td>1</td>\n",
       "      <td>serial:conversion</td>\n",
       "      <td>1.64</td>\n",
       "      <td>0.08</td>\n",
       "      <td>20000.0</td>\n",
       "      <td>0.64</td>\n",
       "    </tr>\n",
       "    <tr>\n",
       "      <th>64</th>\n",
       "      <td>16000000</td>\n",
       "      <td>21</td>\n",
       "      <td>16</td>\n",
       "      <td>16</td>\n",
       "      <td>20</td>\n",
       "      <td>0</td>\n",
       "      <td>double</td>\n",
       "      <td>1</td>\n",
       "      <td>serial:conversion</td>\n",
       "      <td>1.63</td>\n",
       "      <td>0.08</td>\n",
       "      <td>20000.0</td>\n",
       "      <td>1.0</td>\n",
       "    </tr>\n",
       "  </tbody>\n",
       "</table>\n",
       "</div>"
      ],
      "text/plain": [
       "         ppb   b   n  ... time_per_call(ms)    calls global_percentage\n",
       "8   16000000  21   1  ...              0.08  20000.0              0.11\n",
       "22  16000000  21   2  ...              0.08  20000.0              0.21\n",
       "36  16000000  21   4  ...              0.08  20000.0              0.39\n",
       "50  16000000  21   8  ...              0.08  20000.0              0.64\n",
       "64  16000000  21  16  ...              0.08  20000.0               1.0\n",
       "\n",
       "[5 rows x 13 columns]"
      ]
     },
     "execution_count": 89,
     "metadata": {},
     "output_type": "execute_result"
    }
   ],
   "source": [
    "df"
   ]
  },
  {
   "cell_type": "code",
   "execution_count": null,
   "metadata": {},
   "outputs": [],
   "source": []
  }
 ],
 "metadata": {
  "kernelspec": {
   "display_name": "Python 3 (ipykernel)",
   "language": "python",
   "name": "python3"
  },
  "language_info": {
   "codemirror_mode": {
    "name": "ipython",
    "version": 3
   },
   "file_extension": ".py",
   "mimetype": "text/x-python",
   "name": "python",
   "nbconvert_exporter": "python",
   "pygments_lexer": "ipython3",
   "version": "3.8.3"
  }
 },
 "nbformat": 4,
 "nbformat_minor": 4
}
