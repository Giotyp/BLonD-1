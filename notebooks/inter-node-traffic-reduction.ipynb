{
 "cells": [
  {
   "cell_type": "code",
   "execution_count": 5,
   "metadata": {},
   "outputs": [],
   "source": [
    "%matplotlib inline\n",
    "\n",
    "import matplotlib\n",
    "import numpy as np\n",
    "import pandas as pd\n",
    "import matplotlib.pyplot as plt\n",
    "from plot.plotting_utilities import *\n",
    "import os\n",
    "import sys\n",
    "plt.rcParams['ps.useafm'] = True\n",
    "plt.rcParams['pdf.use14corefonts'] = True\n",
    "plt.rcParams['text.usetex'] = True  # Let TeX do the typsetting\n",
    "plt.rcParams['text.latex.preamble'] = r'\\usepackage{sansmath}'\n",
    "plt.rcParams['font.family'] = 'DejaVu Sans Mono'"
   ]
  },
  {
   "cell_type": "code",
   "execution_count": 6,
   "metadata": {},
   "outputs": [],
   "source": [
    "this_directory = os.getcwd() + \"/\"\n",
    "this_filename = 'inter-node-traffic-reduction'\n",
    "project_dir = this_directory + '../'"
   ]
  },
  {
   "cell_type": "code",
   "execution_count": 11,
   "metadata": {},
   "outputs": [],
   "source": [
    "# Inputs\n",
    "config = {\n",
    "    'res_dir': project_dir + 'results/cpu/',\n",
    "    'cases': ['lhc', 'sps', 'ps'],\n",
    "    'outdir': project_dir + 'results/cpu/plots/',\n",
    "    'x_label': 'N',\n",
    "    'y_label': 'total_time(sec)',\n",
    "    'colors': {\n",
    "#         'exact-timing-cpu': '.8',\n",
    "#         'float32-timing-cpu': '.8',\n",
    "#         'f32-srp-timing-cpu': '.5',\n",
    "#         'srp-timing-cpu': '.5',\n",
    "#         'f32-rds-timing-cpu': '.3',\n",
    "#         'rds-timing-cpu': '.3',\n",
    "        'exact-timing-cpu': 'tab:orange',\n",
    "        'float32-timing-cpu': 'tab:orange',\n",
    "        'f32-srp-timing-cpu': 'tab:blue',\n",
    "        'srp-timing-cpu': 'tab:blue',\n",
    "        'f32-rds-timing-cpu': 'tab:green',\n",
    "        'rds-timing-cpu': 'tab:green',\n",
    "\n",
    "    },\n",
    "    'hatches': {\n",
    "        'exact-timing-cpu': '',\n",
    "        'float32-timing-cpu': '///',\n",
    "        'f32-srp-timing-cpu': '///',\n",
    "        'srp-timing-cpu': '',\n",
    "        'f32-rds-timing-cpu': '///',\n",
    "        'rds-timing-cpu': '',\n",
    "    },\n",
    "    'labels': {\n",
    "        'exact-timing-cpu': 'Base',\n",
    "        'float32-timing-cpu': 'F32',\n",
    "        'f32-srp-timing-cpu': 'F32-SRP',\n",
    "        'srp-timing-cpu': 'SRP',\n",
    "        'f32-rds-timing-cpu': 'F32-RDS',\n",
    "        'rds-timing-cpu': 'RDS',\n",
    "    },\n",
    "}"
   ]
  },
  {
   "cell_type": "code",
   "execution_count": 12,
   "metadata": {},
   "outputs": [],
   "source": [
    "plot_dir = {}\n",
    "# case = 'lhc'\n",
    "# version = 'rds-timing-cpu'\n",
    "for case in config['cases']:\n",
    "    plot_dir[case] = {}\n",
    "    for version in ['exact-timing-cpu', 'float32-timing-cpu', 'srp-timing-cpu', 'f32-srp-timing-cpu', 'rds-timing-cpu', 'f32-rds-timing-cpu']:        \n",
    "        file = f'{config[\"res_dir\"]}/{case}/{version}/avg-report.csv'\n",
    "        data = np.genfromtxt(file, delimiter='\\t', dtype=str)\n",
    "        header, data = list(data[0]), data[1:]\n",
    "        # print(header)\n",
    "        df = pd.DataFrame(data=data, columns=header)\n",
    "        df = df.drop([\"s\", \"t\", \"mtw\", 'seed', 'mpi', 'lb', 'tp', 'artdel','gpu','std(%)', 'time_per_call(ms)'], axis=1)\n",
    "        df = df.loc[df['function'].isin(['comm:allreduce', 'comm:gather', 'serial:sync'])]\n",
    "        # print(df)\n",
    "        df = df.loc[df['red'].isin(['1', '3'])]\n",
    "        df = df.loc[df['N'] == '8']\n",
    "        df = df.set_index(['ppb', 'b', 'n', 'N', 'omp', 'approx', 'prec'], drop=True)\n",
    "#         df.loc[df['function'] == 'serial:sync'][config['y_label']]\n",
    "        df = df.astype({config['y_label']: float})\n",
    "        # print(df)\n",
    "        if 'rds' not in version:\n",
    "            df.loc[df['function'] == 'comm:gather', config['y_label']] += df.loc[df['function'] == 'serial:sync'][config['y_label']] + df.loc[df['function'] == 'comm:allreduce'][config['y_label']] \n",
    "        # print(df)\n",
    "        df = df.loc[df['function'] == 'comm:gather']\n",
    "        x = df.index.get_level_values(config['x_label']).values.astype(int)\n",
    "        y = df[config['y_label']].values\n",
    "        #         x, y\n",
    "        plot_dir[case][version] = {\n",
    "            'x': x,\n",
    "            'y': y\n",
    "        }"
   ]
  },
  {
   "cell_type": "code",
   "execution_count": 13,
   "metadata": {},
   "outputs": [
    {
     "data": {
      "text/plain": [
       "{'lhc': {'exact-timing-cpu': {'x': array([8]), 'y': array([242.46])},\n",
       "  'float32-timing-cpu': {'x': array([8]), 'y': array([199.26])},\n",
       "  'srp-timing-cpu': {'x': array([8]), 'y': array([94.66])},\n",
       "  'f32-srp-timing-cpu': {'x': array([8]), 'y': array([77.16])},\n",
       "  'rds-timing-cpu': {'x': array([8]), 'y': array([71.48])},\n",
       "  'f32-rds-timing-cpu': {'x': array([8]), 'y': array([33.64])}},\n",
       " 'sps': {'exact-timing-cpu': {'x': array([8]), 'y': array([253.4])},\n",
       "  'float32-timing-cpu': {'x': array([8]), 'y': array([260.37])},\n",
       "  'srp-timing-cpu': {'x': array([8]), 'y': array([104.26])},\n",
       "  'f32-srp-timing-cpu': {'x': array([8]), 'y': array([85.26])},\n",
       "  'rds-timing-cpu': {'x': array([8]), 'y': array([51.41])},\n",
       "  'f32-rds-timing-cpu': {'x': array([8]), 'y': array([32.78])}},\n",
       " 'ps': {'exact-timing-cpu': {'x': array([8]), 'y': array([182.85])},\n",
       "  'float32-timing-cpu': {'x': array([8]), 'y': array([161.24])},\n",
       "  'srp-timing-cpu': {'x': array([8]), 'y': array([132.31])},\n",
       "  'f32-srp-timing-cpu': {'x': array([8]), 'y': array([44.71])},\n",
       "  'rds-timing-cpu': {'x': array([8]), 'y': array([41.18])},\n",
       "  'f32-rds-timing-cpu': {'x': array([8]), 'y': array([30.42])}}}"
      ]
     },
     "execution_count": 13,
     "metadata": {},
     "output_type": "execute_result"
    }
   ],
   "source": [
    "plot_dir"
   ]
  },
  {
   "cell_type": "code",
   "execution_count": 14,
   "metadata": {},
   "outputs": [
    {
     "name": "stderr",
     "output_type": "stream",
     "text": [
      "/tmp/ipykernel_3758614/2961833320.py:46: UserWarning: Tight layout not applied. tight_layout cannot make axes width small enough to accommodate all axes decorations\n",
      "  plt.tight_layout()\n"
     ]
    },
    {
     "name": "stdout",
     "output_type": "stream",
     "text": [
      "PDFCROP 1.38, 2012/11/02 - Copyright (c) 2002-2012 by Heiko Oberdiek.\n",
      "==> 1 page written on `/home/kiliakis/git/BLonD-1/notebooks/../results/cpu/plots//inter-node-traffic-reduction.pdf'.\n"
     ]
    },
    {
     "data": {
      "image/png": "[encoded data removed]",
      "text/plain": [
       "<Figure size 360x108 with 3 Axes>"
      ]
     },
     "metadata": {
      "needs_background": "light"
     },
     "output_type": "display_data"
    }
   ],
   "source": [
    "fig, ax_arr = plt.subplots(nrows=1, ncols=len(config['cases']), figsize=(5,1.5),\n",
    "                          sharex=True, sharey=True)\n",
    "\n",
    "labels = set()\n",
    "for col, case in enumerate(config['cases']):\n",
    "    ax = ax_arr[col]\n",
    "    plt.sca(ax)\n",
    "    pos = 0\n",
    "    step = 1\n",
    "    width = .85 * step / (len(plot_dir[case])-1)\n",
    "    for version in plot_dir[case]:\n",
    "        x = plot_dir[case][version]['x']\n",
    "        y = plot_dir[case][version]['y']\n",
    "        xpos = pos + np.arange(len(x))\n",
    "        legend = config['labels'][version]\n",
    "        if legend in labels:\n",
    "            legend = None\n",
    "        else:\n",
    "            labels.add(legend)\n",
    "\n",
    "        plt.bar(xpos, y, edgecolor='black', \n",
    "                width=0.75 * width, label=legend,\n",
    "                color=config['colors'][version],\n",
    "                hatch=config['hatches'][version])\n",
    "        \n",
    "        pos += width\n",
    "        \n",
    "    plt.grid(True, which='major', alpha=0.5)\n",
    "    plt.grid(False, which='major', axis='x')\n",
    "    plt.gca().set_axisbelow(True)\n",
    "    if col == 0:\n",
    "        plt.ylabel('Comm. Time (sec)')\n",
    "        plt.legend(loc='upper left', ncol=6, handlelength=1.3, fancybox=True,\n",
    "            framealpha=0, fontsize=10, labelspacing=0, borderpad=0.4,\n",
    "            handletextpad=0.3, borderaxespad=0.1, columnspacing=0.25,\n",
    "            bbox_to_anchor=(-0.01, 1.15)\n",
    "            )\n",
    "\n",
    "#     if col == 1:\n",
    "    plt.xlabel(case.upper(), fontsize=10, labelpad=4)\n",
    "    plt.xticks([], [])\n",
    "    plt.yticks([0, 50, 100, 150, 200, 250])\n",
    "#     plt.title(r'\\bfseries ' + '{}'.format(case.upper()), fontsize=10, fontweight='bold', y=0.83)\n",
    "    ax.tick_params(pad=2, top=0, bottom=1, left=1,\n",
    "                     direction='out', length=3, width=1)\n",
    "    plt.tight_layout()\n",
    "    plt.subplots_adjust(wspace=0.07, hspace=0.1, top=1)\n",
    "\n",
    "outfiles = [f'{config[\"outdir\"]}/{this_filename}.pdf', f'{config[\"outdir\"]}/{this_filename}.png']\n",
    "for outfile in outfiles:\n",
    "    save_and_crop(fig, outfile,dpi=600, bbox_inches='tight')\n",
    "\n",
    "# nbins = 100\n",
    "# count, x = np.histogram(s, nbins, density=True)\n",
    "# # print(bins)\n",
    "# y = 1/(sigma * np.sqrt(2 * np.pi)) * np.exp(-(x - mu)**2 / (2 * sigma**2))\n",
    "# plt.plot(x, y, linewidth=2, color='tab:blue')\n",
    "# plt.plot(x[nbins//2 - 11:nbins//2+11], y[nbins//2 - 11:nbins//2+11], linewidth=2, color='tab:red')\n",
    "# ax.fill_between(x[nbins//2 - 11:nbins//2+11], 0, y[nbins//2 - 11:nbins//2+11], alpha=0.2, facecolor='tab:red')\n",
    "# plt.ylim(0)\n",
    "# plt.xticks([])\n",
    "# plt.yticks([])\n",
    "# plt.xlabel('Bins', fontsize=11)\n",
    "# plt.ylabel('Bin Count', fontsize=11)\n",
    "# plt.annotate(r'\\bfseries In Shared Mem', xy=(x[nbins//2+6], y[nbins//2+6]),\n",
    "#             xycoords='data', xytext=(0.15, 3.7),\n",
    "#             arrowprops={'facecolor':'tab:red', 'shrink':0.05},\n",
    "#             color='tab:red', fontsize=11)\n",
    "# plt.annotate(r'\\bfseries In Global Mem', xy=(x[nbins//2-20], y[nbins//2-20]),\n",
    "#             xycoords='data', xytext=(-0.4, 2.5),\n",
    "#             arrowprops={'facecolor':'tab:blue', 'shrink':0.05},\n",
    "#             color='tab:blue',fontsize=11,\n",
    "#             ha='left')\n",
    "# plt.annotate(r'\\bfseries In Global Mem', xy=(x[nbins//2+18], y[nbins//2+18]),\n",
    "#             xycoords='data', xytext=(0.4, 2.5),\n",
    "#             arrowprops={'facecolor':'tab:blue', 'shrink':0.05},\n",
    "#             color='tab:blue', ha='right', fontsize=11)\n",
    "# plt.annotate(r'\\bfseries Hot Bins', xy=(0, 2.5),\n",
    "#             xycoords='data', ha='center', va='center',\n",
    "#             color='black', fontsize=11)\n",
    "# plt.tight_layout()\n"
   ]
  },
  {
   "cell_type": "code",
   "execution_count": null,
   "metadata": {},
   "outputs": [],
   "source": []
  },
  {
   "cell_type": "code",
   "execution_count": null,
   "metadata": {},
   "outputs": [],
   "source": []
  }
 ],
 "metadata": {
  "kernelspec": {
   "display_name": "Python 3 (ipykernel)",
   "language": "python",
   "name": "python3"
  },
  "language_info": {
   "codemirror_mode": {
    "name": "ipython",
    "version": 3
   },
   "file_extension": ".py",
   "mimetype": "text/x-python",
   "name": "python",
   "nbconvert_exporter": "python",
   "pygments_lexer": "ipython3",
   "version": "3.8.3"
  }
 },
 "nbformat": 4,
 "nbformat_minor": 4
}
