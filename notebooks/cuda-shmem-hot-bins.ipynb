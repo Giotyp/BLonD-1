{
 "cells": [
  {
   "cell_type": "code",
   "execution_count": 70,
   "metadata": {},
   "outputs": [],
   "source": [
    "%matplotlib inline\n",
    "\n",
    "import matplotlib\n",
    "import numpy as np\n",
    "import matplotlib.pyplot as plt\n",
    "import os\n",
    "import sys\n",
    "plt.rcParams['ps.useafm'] = True\n",
    "plt.rcParams['pdf.use14corefonts'] = True\n",
    "plt.rcParams['text.usetex'] = True  # Let TeX do the typsetting\n",
    "plt.rcParams['text.latex.preamble'] = r'\\usepackage{sansmath}'\n",
    "plt.rcParams['font.family'] = 'DejaVu Sans Mono'"
   ]
  },
  {
   "cell_type": "code",
   "execution_count": 82,
   "metadata": {},
   "outputs": [
    {
     "name": "stdout",
     "output_type": "stream",
     "text": [
      "0.0008167219000190793\n",
      "0.0004431582276956114\n"
     ]
    }
   ],
   "source": [
    "mu, sigma = 0, 0.1 # mean and standard deviation\n",
    "\n",
    "s = np.random.normal(mu, sigma, 10000)\n",
    "print(abs(mu - np.mean(s)))\n",
    "print(abs(sigma - np.std(s, ddof=1)))"
   ]
  },
  {
   "cell_type": "code",
   "execution_count": 99,
   "metadata": {},
   "outputs": [
    {
     "data": {
      "image/png": "[encoded data removed]",
      "text/plain": [
       "<Figure size 360x144 with 1 Axes>"
      ]
     },
     "metadata": {},
     "output_type": "display_data"
    }
   ],
   "source": [
    "fig, ax = plt.subplots(1, 1, figsize=(5,2.))\n",
    "nbins = 100\n",
    "count, x = np.histogram(s, nbins, density=True)\n",
    "# print(bins)\n",
    "y = 1/(sigma * np.sqrt(2 * np.pi)) * np.exp(-(x - mu)**2 / (2 * sigma**2))\n",
    "plt.plot(x, y, linewidth=2, color='tab:blue')\n",
    "plt.plot(x[nbins//2 - 11:nbins//2+11], y[nbins//2 - 11:nbins//2+11], linewidth=2, color='tab:red')\n",
    "ax.fill_between(x[nbins//2 - 11:nbins//2+11], 0, y[nbins//2 - 11:nbins//2+11], alpha=0.2, facecolor='tab:red')\n",
    "plt.ylim(0)\n",
    "plt.xticks([])\n",
    "plt.yticks([])\n",
    "plt.xlabel('Bins', fontsize=11)\n",
    "plt.ylabel('Bin Count', fontsize=11)\n",
    "plt.annotate(r'\\bfseries In Shared Mem', xy=(x[nbins//2+6], y[nbins//2+6]),\n",
    "            xycoords='data', xytext=(0.15, 3.7),\n",
    "            arrowprops={'facecolor':'tab:red', 'shrink':0.05},\n",
    "            color='tab:red', fontsize=11)\n",
    "plt.annotate(r'\\bfseries In Global Mem', xy=(x[nbins//2-20], y[nbins//2-20]),\n",
    "            xycoords='data', xytext=(-0.4, 2.5),\n",
    "            arrowprops={'facecolor':'tab:blue', 'shrink':0.05},\n",
    "            color='tab:blue',fontsize=11,\n",
    "            ha='left')\n",
    "plt.annotate(r'\\bfseries In Global Mem', xy=(x[nbins//2+18], y[nbins//2+18]),\n",
    "            xycoords='data', xytext=(0.4, 2.5),\n",
    "            arrowprops={'facecolor':'tab:blue', 'shrink':0.05},\n",
    "            color='tab:blue', ha='right', fontsize=11)\n",
    "plt.annotate(r'\\bfseries Hot Bins', xy=(0, 2.5),\n",
    "            xycoords='data', ha='center', va='center',\n",
    "            color='black', fontsize=11)\n",
    "plt.tight_layout()\n",
    "plt.savefig('cuda-shmem-hot-bins.pdf', dpi=600, bbox_inches='tight')"
   ]
  },
  {
   "cell_type": "code",
   "execution_count": null,
   "metadata": {},
   "outputs": [],
   "source": []
  }
 ],
 "metadata": {
  "kernelspec": {
   "display_name": "Python 3 (ipykernel)",
   "language": "python",
   "name": "python3"
  },
  "language_info": {
   "codemirror_mode": {
    "name": "ipython",
    "version": 3
   },
   "file_extension": ".py",
   "mimetype": "text/x-python",
   "name": "python",
   "nbconvert_exporter": "python",
   "pygments_lexer": "ipython3",
   "version": "3.8.3"
  }
 },
 "nbformat": 4,
 "nbformat_minor": 4
}
