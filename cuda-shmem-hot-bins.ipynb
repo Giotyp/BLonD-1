{
 "cells": [
  {
   "cell_type": "code",
   "execution_count": 1,
   "metadata": {},
   "outputs": [],
   "source": [
    "%matplotlib inline\n",
    "\n",
    "import matplotlib\n",
    "import numpy as np\n",
    "import matplotlib.pyplot as plt\n",
    "import os\n",
    "import sys\n",
    "plt.rcParams['ps.useafm'] = True\n",
    "plt.rcParams['pdf.use14corefonts'] = True\n",
    "plt.rcParams['text.usetex'] = True  # Let TeX do the typsetting\n",
    "plt.rcParams['text.latex.preamble'] = r'\\usepackage{sansmath}'\n",
    "plt.rcParams['font.family'] = 'DejaVu Sans Mono'"
   ]
  },
  {
   "cell_type": "code",
   "execution_count": 13,
   "metadata": {},
   "outputs": [
    {
     "name": "stdout",
     "output_type": "stream",
     "text": [
      "0.0007583506987957877\n",
      "0.00062193046237842\n"
     ]
    }
   ],
   "source": [
    "mu, sigma = 0, 0.1 # mean and standard deviation\n",
    "\n",
    "s = np.random.normal(mu, sigma, 10000)\n",
    "print(abs(mu - np.mean(s)))\n",
    "print(abs(sigma - np.std(s, ddof=1)))"
   ]
  },
  {
   "cell_type": "code",
   "execution_count": 33,
   "metadata": {},
   "outputs": [
    {
     "data": {
      "image/png": "[encoded data removed]",
      "text/plain": [
       "<Figure size 360x108 with 1 Axes>"
      ]
     },
     "metadata": {},
     "output_type": "display_data"
    }
   ],
   "source": [
    "fig, ax = plt.subplots(1, 1, figsize=(5,1.5))\n",
    "nbins = 100\n",
    "count, x = np.histogram(s, nbins, density=True)\n",
    "# print(bins)\n",
    "y = 1/(sigma * np.sqrt(2 * np.pi)) * np.exp(-(x - mu)**2 / (2 * sigma**2))\n",
    "plt.plot(x, y, linewidth=2, color='tab:blue')\n",
    "plt.plot(x[nbins//2 - 10:nbins//2+12], y[nbins//2 - 10:nbins//2+12], linewidth=2, color='tab:red')\n",
    "ax.fill_between(x[nbins//2 - 10:nbins//2+12], 0, y[nbins//2 - 10:nbins//2+12], alpha=0.2, facecolor='tab:red')\n",
    "plt.ylim(0)\n",
    "plt.xticks([])\n",
    "plt.yticks([])\n",
    "plt.xlabel('Bins', fontsize=11)\n",
    "plt.ylabel('Bin Count', fontsize=11)\n",
    "plt.annotate(r'\\bfseries In Shared Mem', xy=(x[nbins//2+7], y[nbins//2+7]),\n",
    "            xycoords='data', xytext=(0.14, 3.5),\n",
    "            arrowprops={'facecolor':'tab:red', 'shrink':0.05},\n",
    "            color='tab:red', fontsize=11)\n",
    "plt.annotate(r'\\bfseries In Global Mem', xy=(x[nbins//2-20], y[nbins//2-20]),\n",
    "            xycoords='data', xytext=(-0.42, 2.5),\n",
    "            arrowprops={'facecolor':'tab:blue', 'shrink':0.05},\n",
    "            color='tab:blue',fontsize=11,\n",
    "            ha='left')\n",
    "plt.annotate(r'\\bfseries In Global Mem', xy=(x[nbins//2+22], y[nbins//2+22]),\n",
    "            xycoords='data', xytext=(0.43, 2.2),\n",
    "            arrowprops={'facecolor':'tab:blue', 'shrink':0.05},\n",
    "            color='tab:blue', ha='right', fontsize=11)\n",
    "plt.annotate(r'\\bfseries Hot Bins', xy=(0, 2.5),\n",
    "            xycoords='data', ha='center', va='center',\n",
    "            color='black', fontsize=11)\n",
    "plt.tight_layout()\n",
    "plt.savefig('cuda-shmem-hot-bins.pdf', dpi=600, bbox_inches='tight')"
   ]
  },
  {
   "cell_type": "code",
   "execution_count": null,
   "metadata": {},
   "outputs": [],
   "source": []
  }
 ],
 "metadata": {
  "kernelspec": {
   "display_name": "Python 3 (ipykernel)",
   "language": "python",
   "name": "python3"
  },
  "language_info": {
   "codemirror_mode": {
    "name": "ipython",
    "version": 3
   },
   "file_extension": ".py",
   "mimetype": "text/x-python",
   "name": "python",
   "nbconvert_exporter": "python",
   "pygments_lexer": "ipython3",
   "version": "3.9.7"
  }
 },
 "nbformat": 4,
 "nbformat_minor": 4
}
